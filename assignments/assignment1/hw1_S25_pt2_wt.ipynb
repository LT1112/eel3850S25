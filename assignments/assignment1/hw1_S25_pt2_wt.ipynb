{
 "cells": [
  {
   "cell_type": "code",
   "execution_count": null,
   "metadata": {},
   "outputs": [],
   "source": [
    "# Homework 1 Part 2 - William Tvenstrup\n",
    "\n",
    "[total 50pt]\n",
    "\n",
    "This is an individual assignment."
   ]
  },
  {
   "cell_type": "code",
   "execution_count": null,
   "metadata": {},
   "outputs": [],
   "source": [
    "## Description\n",
    "\n",
    "Create or edit this Jupyter Notebook to answer the questions below. Use simulations to answer these questions. An analytical solution can be useful to check if your simulation is correct but analytical solutions alone will not be accepted as a solution to a problem."
   ]
  },
  {
   "cell_type": "markdown",
   "metadata": {},
   "source": [
    "## Problem 1\n",
    "\n",
    "[20pt]\n",
    "\n",
    "Consider repeatedly rolling a fair 6-sided die.\n",
    "\n",
    "1. [5pt] Create a simulation to compute the probability that the top face will be 4 at least once on 10 rolls of the die?\n",
    "2. [5pt] Create a simulation to compute the probability that the top face will be 4 at least once on 20 rolls of the die?\n",
    "3. [5pt] Create a simulation to compute how many rolls of the die would you have to do to be 90% confident that you would see at least one 4?\n",
    "4. [5pt] Using the formula you have computed in problem 2 part 4, make a Python function that takes in the target value $p$ and outputs the required number of rolls of an integer. \n",
    "    1. Find the values for $p=0.95$ and $p=0.99$. \n",
    "    2. Use your simulation to verify that the number of rolls you specified is sufficient to achieve $p\\geq 0.95$.\n",
    "    \n",
    "    \n",
    "    \n",
    "Hint: You need to use some math function: \n",
    "    \n",
    "    - The math.ceil() method rounds a number UP to the nearest integer, \n",
    "    \n",
    "    - The math.log() method returns the natural logarithm of a number, or the logarithm of number to base.\n"
   ]
  },
  {
   "cell_type": "code",
   "execution_count": 13,
   "metadata": {},
   "outputs": [
    {
     "name": "stdout",
     "output_type": "stream",
     "text": [
      "Probability of rolling a 4 in 10 dice rolls: 0.83734\n",
      "Probability of rolling a 4 in 20 dice rolls: 0.97365\n",
      "Simulated rolls needed for 90% confidence: 13\n",
      "Rolls needed for 95% confidence: 17\n",
      "Rolls needed for 99% confidence: 26\n",
      "Simulated rolls needed for 95% confidence: 17\n"
     ]
    }
   ],
   "source": [
    "import numpy as np\n",
    "import math\n",
    "\n",
    "#1 & 2:\n",
    "def find_probability(rolls, simulations=100000):\n",
    "    rolled_four = 0\n",
    "    for _ in range(simulations):\n",
    "        trial_rolls = np.random.randint(1,7,size = rolls)\n",
    "        if 4 in trial_rolls:\n",
    "            rolled_four = rolled_four + 1\n",
    "    return rolled_four / simulations\n",
    "\n",
    "print(f\"Probability of rolling a 4 in 10 dice rolls:\", find_probability(10))\n",
    "print(f\"Probability of rolling a 4 in 20 dice rolls:\", find_probability(20))\n",
    "\n",
    "#3:\n",
    "def find_rolls(probability, simulations=100000):\n",
    "    rolls = 1\n",
    "    while True:\n",
    "        working_probability = find_probability(rolls, simulations)\n",
    "        if working_probability >= probability:\n",
    "            return rolls\n",
    "        rolls = rolls + 1\n",
    "\n",
    "print(f\"Simulated rolls needed for 90% confidence:\", find_rolls(0.9))\n",
    "\n",
    "#4:\n",
    "def formula_rolls(probability):\n",
    "    if probability <= 0 or probability >= 1:\n",
    "        raise ValueError(\"Provided probability can only be in the range of 0 and 1.\")\n",
    "    return math.ceil(math.log(1-probability) / math.log(5/6))\n",
    "\n",
    "print(f\"Rolls needed for 95% confidence:\", formula_rolls(0.95))\n",
    "print(f\"Rolls needed for 99% confidence:\", formula_rolls(0.99))\n",
    "\n",
    "#Verify 95% with simulation:\n",
    "print(f\"Simulated rolls needed for 95% confidence:\", find_rolls(0.95))\n",
    "\n",
    "\n"
   ]
  },
  {
   "cell_type": "markdown",
   "metadata": {},
   "source": [
    "## Problem 2\n",
    "\n",
    "[15 pt]\n",
    "Create a simulation function where you will roll a fair 6-sided die twice. Use simulation to find out the probability of getting a even number on the first toss and a number greater than or equals 3 on the second toss. "
   ]
  },
  {
   "cell_type": "code",
   "execution_count": 9,
   "metadata": {},
   "outputs": [
    {
     "name": "stdout",
     "output_type": "stream",
     "text": [
      "Probability of even number then number greater or equal to 3: 0.33406\n"
     ]
    }
   ],
   "source": [
    "import numpy as np\n",
    "import math\n",
    "\n",
    "def even_greater_3(trials = 100000):\n",
    "    count = 0\n",
    "    for _ in range(trials):\n",
    "        first_roll = np.random.randint(1,7)\n",
    "        second_roll = np.random.randint(1,7)\n",
    "        if first_roll %2 == 0 and second_roll >= 3:\n",
    "            count = count + 1\n",
    "    return count / trials\n",
    "\n",
    "print(f\"Probability of even number then number greater or equal to 3:\", even_greater_3())"
   ]
  },
  {
   "cell_type": "markdown",
   "metadata": {},
   "source": [
    "## Problem 3\n",
    "\n",
    "[15pt]\n",
    "\n",
    "Suppose that you have a bag with 3 coins. One of them is a fair coin, but the others are biased trick coins. When flipped, the three coins come up heads with probability $\\frac{1}{2}$, $\\frac{1}{5}$, and $\\frac{1}{4}$, respectively.\n",
    "\n",
    "1. [10pt ]Consider the experiment where you pick one coin at random and flip it three times. Let $H_i$ be the event that the coin comes up heads on flip $i$. What is the probability of the outcome $H_1\\cap H_2\\cap {H^c_3}$?\n",
    "\n",
    "2. [5pt ] With small modification in your code, find out the probability of the outcome $H^c_1\\cap {H^c_2} \\cap {H_3}$.\n",
    "\n",
    "Use simulation to find out the probability."
   ]
  },
  {
   "cell_type": "code",
   "execution_count": 15,
   "metadata": {},
   "outputs": [
    {
     "name": "stdout",
     "output_type": "stream",
     "text": [
      "Probability of H1 ∩ H2 ∩ H3^c: 0.0671\n",
      "Probability of H1^c ∩ H2^c ∩ H3: 0.1315\n"
     ]
    }
   ],
   "source": [
    "import numpy as np\n",
    "import math\n",
    "\n",
    "def coin_experiment(trials = 100000):\n",
    "    heads_probabilities = [1/2, 1/5, 1/4]\n",
    "    situation_1 = 0\n",
    "    situation_2 = 0\n",
    "    for _ in range(trials):\n",
    "        coin = np.random.choice(heads_probabilities)\n",
    "        flips = np.random.rand(3) < coin\n",
    "        if flips[0] and flips[1] and not flips[2]:\n",
    "            situation_1 = situation_1 + 1\n",
    "            \n",
    "        if not flips[0] and not flips[1] and flips[2]:\n",
    "            situation_2 = situation_2 + 1\n",
    "\n",
    "    situation_1_probability = situation_1 / trials\n",
    "    situation_2_probability = situation_2 / trials\n",
    "\n",
    "    return situation_1_probability, situation_2_probability\n",
    "\n",
    "prob_1, prob_2 = coin_experiment()\n",
    "print(f\"Probability of H1 ∩ H2 ∩ H3^c:\", prob_1)\n",
    "print(f\"Probability of H1^c ∩ H2^c ∩ H3:\", prob_2)"
   ]
  },
  {
   "cell_type": "markdown",
   "metadata": {},
   "source": [
    "# Submit Your Solutions\n",
    " \n",
    "Along with the Notebook, include a PDF of the notebook with your solutions."
   ]
  }
 ],
 "metadata": {
  "kernelspec": {
   "display_name": "Python 3 (ipykernel)",
   "language": "python",
   "name": "python3"
  },
  "language_info": {
   "codemirror_mode": {
    "name": "ipython",
    "version": 3
   },
   "file_extension": ".py",
   "mimetype": "text/x-python",
   "name": "python",
   "nbconvert_exporter": "python",
   "pygments_lexer": "ipython3",
   "version": "3.12.7"
  },
  "latex_envs": {
   "LaTeX_envs_menu_present": true,
   "autoclose": false,
   "autocomplete": true,
   "bibliofile": "biblio.bib",
   "cite_by": "apalike",
   "current_citInitial": 1,
   "eqLabelWithNumbers": true,
   "eqNumInitial": 1,
   "hotkeys": {
    "equation": "Ctrl-E",
    "itemize": "Ctrl-I"
   },
   "labels_anchors": false,
   "latex_user_defs": false,
   "report_style_numbering": false,
   "user_envs_cfg": false
  },
  "varInspector": {
   "cols": {
    "lenName": 16,
    "lenType": 16,
    "lenVar": 40
   },
   "kernels_config": {
    "python": {
     "delete_cmd_postfix": "",
     "delete_cmd_prefix": "del ",
     "library": "var_list.py",
     "varRefreshCmd": "print(var_dic_list())"
    },
    "r": {
     "delete_cmd_postfix": ") ",
     "delete_cmd_prefix": "rm(",
     "library": "var_list.r",
     "varRefreshCmd": "cat(var_dic_list()) "
    }
   },
   "types_to_exclude": [
    "module",
    "function",
    "builtin_function_or_method",
    "instance",
    "_Feature"
   ],
   "window_display": false
  }
 },
 "nbformat": 4,
 "nbformat_minor": 4
}
